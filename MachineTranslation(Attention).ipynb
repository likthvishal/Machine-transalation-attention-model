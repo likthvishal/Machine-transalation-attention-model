{
  "nbformat": 4,
  "nbformat_minor": 0,
  "metadata": {
    "colab": {
      "name": "MachineTranslation(Attention).ipynb",
      "version": "0.3.2",
      "provenance": [],
      "collapsed_sections": []
    },
    "kernelspec": {
      "name": "python3",
      "display_name": "Python 3"
    },
    "accelerator": "GPU"
  },
  "cells": [
    {
      "cell_type": "code",
      "metadata": {
        "id": "Avf95zTI6HuR",
        "colab_type": "code",
        "colab": {
          "base_uri": "https://localhost:8080/",
          "height": 34
        },
        "outputId": "ae0a487a-deaa-460b-e65c-6d5e40fa5450"
      },
      "source": [
        "from google.colab import drive\n",
        "drive.mount('/content/gdrive')"
      ],
      "execution_count": 1,
      "outputs": [
        {
          "output_type": "stream",
          "text": [
            "Drive already mounted at /content/gdrive; to attempt to forcibly remount, call drive.mount(\"/content/gdrive\", force_remount=True).\n"
          ],
          "name": "stdout"
        }
      ]
    },
    {
      "cell_type": "code",
      "metadata": {
        "id": "BMa-r3Lk6CIU",
        "colab_type": "code",
        "colab": {}
      },
      "source": [
        "import numpy as np\n",
        "import pandas as pd\n",
        "import matplotlib.pyplot as plt"
      ],
      "execution_count": 0,
      "outputs": []
    },
    {
      "cell_type": "code",
      "metadata": {
        "id": "U3YHuLCJ6CIY",
        "colab_type": "code",
        "colab": {
          "base_uri": "https://localhost:8080/",
          "height": 34
        },
        "outputId": "0a90257c-0cc7-4e4a-939e-e95973914c0a"
      },
      "source": [
        "from keras.models import Model\n",
        "from keras.preprocessing.sequence import pad_sequences\n",
        "from keras.preprocessing.text import Tokenizer\n",
        "from keras.layers import Embedding, Dense, Lambda, LSTM, Bidirectional, Input, RepeatVector, Concatenate, Dot"
      ],
      "execution_count": 3,
      "outputs": [
        {
          "output_type": "stream",
          "text": [
            "Using TensorFlow backend.\n"
          ],
          "name": "stderr"
        }
      ]
    },
    {
      "cell_type": "code",
      "metadata": {
        "id": "NgOqNhWB6CIb",
        "colab_type": "code",
        "colab": {}
      },
      "source": [
        "import keras.backend as K\n",
        "if len(K.tensorflow_backend._get_available_gpus()) > 0:\n",
        "    from keras.layers import CuDNNLSTM as LSTM"
      ],
      "execution_count": 0,
      "outputs": []
    },
    {
      "cell_type": "code",
      "metadata": {
        "id": "56cLWHHP6CId",
        "colab_type": "code",
        "colab": {}
      },
      "source": [
        "MAX_SEQUENCE_LENGTH = 100\n",
        "EMBEDDING_DIM = 50\n",
        "LATENT_DIM = 256\n",
        "VOCAB_SIZE = 20000\n",
        "BATCH_SIZE = 64\n",
        "VALIDATION_SPLIT = 0.2\n",
        "NUM_SAMPLES = 10000\n",
        "EPOCHS=100"
      ],
      "execution_count": 0,
      "outputs": []
    },
    {
      "cell_type": "code",
      "metadata": {
        "id": "-8NRh7Z86CIf",
        "colab_type": "code",
        "colab": {
          "base_uri": "https://localhost:8080/",
          "height": 34
        },
        "outputId": "198429f6-a541-4ffc-aca1-089c6d28fd27"
      },
      "source": [
        "print('Loading dataset...')\n",
        "\n",
        "input_texts = []\n",
        "target_text_input = []\n",
        "target_text = []\n",
        "with open('/content/gdrive/My Drive/Colab Notebooks/spa.txt') as f:\n",
        "    count = 0\n",
        "    for line in f:\n",
        "        count += 1\n",
        "        if count > NUM_SAMPLES:\n",
        "            break\n",
        "        \n",
        "        if '\\t' not in line:\n",
        "            continue\n",
        "        input_, translation = line.rstrip().split('\\t')\n",
        "        input_texts.append(input_)\n",
        "        target_text_input.append('<sos> ' + translation)\n",
        "        target_text.append(translation + ' <eos>')"
      ],
      "execution_count": 7,
      "outputs": [
        {
          "output_type": "stream",
          "text": [
            "Loading dataset...\n"
          ],
          "name": "stdout"
        }
      ]
    },
    {
      "cell_type": "code",
      "metadata": {
        "id": "hdoYRo0H6CIh",
        "colab_type": "code",
        "colab": {
          "base_uri": "https://localhost:8080/",
          "height": 34
        },
        "outputId": "1056868e-9e29-43d0-f909-ef3ef4f88757"
      },
      "source": [
        "encoded_tokenizer = Tokenizer(num_words=VOCAB_SIZE)\n",
        "encoded_tokenizer.fit_on_texts(input_texts)\n",
        "encoded_sequence = encoded_tokenizer.texts_to_sequences(input_texts)\n",
        "\n",
        "word2idx_inputs = encoded_tokenizer.word_index\n",
        "\n",
        "print('No of input words %d' % (len(word2idx_inputs)+1))\n",
        "\n",
        "max_len_input = max([len(s) for s in encoded_sequence])"
      ],
      "execution_count": 8,
      "outputs": [
        {
          "output_type": "stream",
          "text": [
            "No of input words 2365\n"
          ],
          "name": "stdout"
        }
      ]
    },
    {
      "cell_type": "code",
      "metadata": {
        "id": "ShUp5_L66CIj",
        "colab_type": "code",
        "colab": {}
      },
      "source": [
        "decoded_tokenizer = Tokenizer(num_words=VOCAB_SIZE, filters='')\n",
        "decoded_tokenizer.fit_on_texts(target_text + target_text_input)\n",
        "target_sequence = decoded_tokenizer.texts_to_sequences(target_text)\n",
        "target_input_sequence = decoded_tokenizer.texts_to_sequences(target_text_input)\n",
        "\n",
        "word2idx_target = decoded_tokenizer.word_index\n",
        "num_words_output = len(word2idx_target) + 1\n",
        "\n",
        "max_len_target = max(len(s) for s in target_sequence)"
      ],
      "execution_count": 0,
      "outputs": []
    },
    {
      "cell_type": "code",
      "metadata": {
        "id": "xob22q_S6CIl",
        "colab_type": "code",
        "colab": {
          "base_uri": "https://localhost:8080/",
          "height": 50
        },
        "outputId": "780782dc-e40d-4ddc-8253-ff30a2a11365"
      },
      "source": [
        "encoded_sequence = pad_sequences(encoded_sequence, maxlen=max_len_input)\n",
        "print('encoded inputs shape', encoded_sequence.shape)\n",
        "\n",
        "target_sequence = pad_sequences(target_sequence, maxlen=max_len_target, padding='post')\n",
        "target_input_sequence = pad_sequences(target_input_sequence, maxlen=max_len_target, padding='post')\n",
        "print('target_input_sequence shape', target_input_sequence.shape)"
      ],
      "execution_count": 10,
      "outputs": [
        {
          "output_type": "stream",
          "text": [
            "encoded inputs shape (10000, 5)\n",
            "target_input_sequence shape (10000, 9)\n"
          ],
          "name": "stdout"
        }
      ]
    },
    {
      "cell_type": "code",
      "metadata": {
        "id": "1SXUusYf6CIo",
        "colab_type": "code",
        "colab": {
          "base_uri": "https://localhost:8080/",
          "height": 34
        },
        "outputId": "14663ecb-ed30-409e-d5ca-ef3ad2d7730b"
      },
      "source": [
        "word2vec = {}\n",
        "with open('/content/gdrive/My Drive/Colab Notebooks/glove.6B.%sd.txt' % EMBEDDING_DIM, encoding='utf8') as f:\n",
        "    for line in f:\n",
        "        values = line.split()\n",
        "        word = values[0]\n",
        "        vec = np.asarray(values[1:], dtype='float32')\n",
        "        word2vec[word] = vec\n",
        "    print('No of word vectors %d' % len(word2vec))"
      ],
      "execution_count": 11,
      "outputs": [
        {
          "output_type": "stream",
          "text": [
            "No of word vectors 400000\n"
          ],
          "name": "stdout"
        }
      ]
    },
    {
      "cell_type": "code",
      "metadata": {
        "id": "1yT3JV_86CIs",
        "colab_type": "code",
        "colab": {
          "base_uri": "https://localhost:8080/",
          "height": 34
        },
        "outputId": "0dafe870-85d8-40f9-eca0-899432758ab8"
      },
      "source": [
        "print('Filling pre-trained...')\n",
        "num_words_input = min(VOCAB_SIZE, len(word2idx_inputs)+1)\n",
        "embedding_matrix = np.zeros((num_words_input, EMBEDDING_DIM))\n",
        "for word, i in word2idx_inputs.items():\n",
        "    if i < VOCAB_SIZE:\n",
        "        embedding_vector = word2idx_inputs.get(word)\n",
        "        if embedding_vector is not None:\n",
        "            embedding_matrix[i] = embedding_vector"
      ],
      "execution_count": 12,
      "outputs": [
        {
          "output_type": "stream",
          "text": [
            "Filling pre-trained...\n"
          ],
          "name": "stdout"
        }
      ]
    },
    {
      "cell_type": "code",
      "metadata": {
        "id": "CGGf3sp76CIw",
        "colab_type": "code",
        "colab": {}
      },
      "source": [
        "encoder_embedding = Embedding(\n",
        "    num_words_input,\n",
        "    EMBEDDING_DIM,\n",
        "    weights=[embedding_matrix],\n",
        "    input_length=max_len_input,\n",
        "    trainable=False\n",
        ")"
      ],
      "execution_count": 0,
      "outputs": []
    },
    {
      "cell_type": "code",
      "metadata": {
        "id": "s8Vn09hD6CIz",
        "colab_type": "code",
        "colab": {}
      },
      "source": [
        "# decoder_output_one_hot = np.zeros((len(input_texts), max_len_target, num_words_output), dtype='float32')\n",
        "\n",
        "# for i, d in enumerate(target_sequence):\n",
        "#     for j, word in enumerate(d):\n",
        "#         decoder_output_one_hot[i, j, word] = 1"
      ],
      "execution_count": 0,
      "outputs": []
    },
    {
      "cell_type": "code",
      "metadata": {
        "id": "_36hUZc66W84",
        "colab_type": "code",
        "colab": {}
      },
      "source": [
        "def batch_generator(batch_size, data_len, encoder_x, decoder_x, decoder_y):\n",
        "    counter = 0\n",
        "    while True:\n",
        "        encoder_i = encoder_x[counter*batch_size:min((counter+1)*batch_size, data_len)]\n",
        "        decoder_i = decoder_x[counter*batch_size:min((counter+1)*batch_size, data_len)]\n",
        "        decoder_o = decoder_y[counter*batch_size:min((counter+1)*batch_size, data_len)]\n",
        "        length = min((counter+1)*batch_size, data_len)-counter*batch_size\n",
        "        decoder_one_hot = np.zeros((length, max_len_target, num_words_output), dtype='float32')\n",
        "        for i, d in enumerate(decoder_o):\n",
        "            for t, word in enumerate(d):\n",
        "                decoder_one_hot[i, t, word] = 1\n",
        "        counter+=1\n",
        "        if counter*batch_size >= data_len:\n",
        "            counter=0\n",
        "        z = np.zeros((length, LATENT_DIM))\n",
        "        yield [encoder_i, decoder_i, z, z], decoder_one_hot"
      ],
      "execution_count": 0,
      "outputs": []
    },
    {
      "cell_type": "code",
      "metadata": {
        "id": "ovW3OcFn2H2s",
        "colab_type": "code",
        "colab": {}
      },
      "source": [
        "random_idx = np.random.randint(0, len(input_texts), len(input_texts))"
      ],
      "execution_count": 0,
      "outputs": []
    },
    {
      "cell_type": "code",
      "metadata": {
        "id": "6vUgQ_Vj8hpv",
        "colab_type": "code",
        "colab": {}
      },
      "source": [
        "validation_split = 0.2\n",
        "validation_size = int(validation_split*len(encoded_sequence))\n",
        "train_len = len(encoded_sequence)-validation_size\n",
        "\n",
        "train_idx = random_idx[validation_size:]\n",
        "valid_idx = random_idx[:validation_size]"
      ],
      "execution_count": 0,
      "outputs": []
    },
    {
      "cell_type": "code",
      "metadata": {
        "id": "6ceqOjYq8eIW",
        "colab_type": "code",
        "colab": {}
      },
      "source": [
        "train_encoder_input = encoded_sequence[train_idx]\n",
        "valid_encoder_input = encoded_sequence[valid_idx]\n",
        "\n",
        "train_decoder_input = target_input_sequence[train_idx]\n",
        "valid_decoder_input = target_input_sequence[valid_idx]\n",
        "\n",
        "train_decoder_output = target_sequence[train_idx]\n",
        "valid_decoder_output = target_sequence[valid_idx]"
      ],
      "execution_count": 0,
      "outputs": []
    },
    {
      "cell_type": "code",
      "metadata": {
        "id": "GSIt2VWU9IrL",
        "colab_type": "code",
        "colab": {}
      },
      "source": [
        "train_gen = batch_generator(BATCH_SIZE, train_len, train_encoder_input, train_decoder_input, train_decoder_output)\n",
        "valid_gen = batch_generator(BATCH_SIZE, validation_size, valid_encoder_input, valid_decoder_input, valid_decoder_output)"
      ],
      "execution_count": 0,
      "outputs": []
    },
    {
      "cell_type": "code",
      "metadata": {
        "id": "s572CHI66CI0",
        "colab_type": "code",
        "colab": {
          "base_uri": "https://localhost:8080/",
          "height": 87
        },
        "outputId": "19913d98-29cb-4c20-e35a-91bc698ceb8b"
      },
      "source": [
        "encoder_inputs_placeholder = Input(shape=(max_len_input,))\n",
        "encoder_x = encoder_embedding(encoder_inputs_placeholder)\n",
        "encoder_lstm = Bidirectional(LSTM(LATENT_DIM, return_sequences=True))\n",
        "encoder_outputs = encoder_lstm(encoder_x)"
      ],
      "execution_count": 23,
      "outputs": [
        {
          "output_type": "stream",
          "text": [
            "WARNING:tensorflow:From /usr/local/lib/python3.6/dist-packages/tensorflow/python/framework/op_def_library.py:263: colocate_with (from tensorflow.python.framework.ops) is deprecated and will be removed in a future version.\n",
            "Instructions for updating:\n",
            "Colocations handled automatically by placer.\n"
          ],
          "name": "stdout"
        }
      ]
    },
    {
      "cell_type": "code",
      "metadata": {
        "id": "dSVIOgtH6CI2",
        "colab_type": "code",
        "colab": {}
      },
      "source": [
        "def softmax_over_time(x):\n",
        "    assert(K.ndim(x) > 2)\n",
        "    e = K.exp(x - K.max(x, axis=1, keepdims=True))\n",
        "    s = K.sum(x, axis=1, keepdims=True)\n",
        "    return e/s"
      ],
      "execution_count": 0,
      "outputs": []
    },
    {
      "cell_type": "code",
      "metadata": {
        "id": "6dzLruor6CI4",
        "colab_type": "code",
        "colab": {}
      },
      "source": [
        "attention_repeat_layer = RepeatVector(max_len_input)\n",
        "attention_concat_layer = Concatenate(axis=-1)\n",
        "attention_dense_layer1 = Dense(10, activation='tanh')\n",
        "attention_dense_layer2 = Dense(1, activation=softmax_over_time)\n",
        "attention_dot_layer = Dot(axes=1)"
      ],
      "execution_count": 0,
      "outputs": []
    },
    {
      "cell_type": "code",
      "metadata": {
        "id": "WlAtn0h76CI6",
        "colab_type": "code",
        "colab": {}
      },
      "source": [
        "def one_step_attention(h, st_1):\n",
        "    \n",
        "    st_1 = attention_repeat_layer(st_1)\n",
        "    x = attention_concat_layer([h, st_1])\n",
        "    x = attention_dense_layer1(x)\n",
        "    alphas = attention_dense_layer2(x)\n",
        "    context = attention_dot_layer([alphas, h])\n",
        "    \n",
        "    return context"
      ],
      "execution_count": 0,
      "outputs": []
    },
    {
      "cell_type": "code",
      "metadata": {
        "id": "YJCQfCyR6CI7",
        "colab_type": "code",
        "colab": {}
      },
      "source": [
        "decoder_inputs_placeholder = Input(shape=(max_len_target,))\n",
        "decoder_embedding = Embedding(num_words_output, EMBEDDING_DIM, trainable=True)\n",
        "decoder_x = decoder_embedding(decoder_inputs_placeholder)\n",
        "decoder_lstm = LSTM(LATENT_DIM, return_state=True)\n",
        "decoder_dense = Dense(num_words_output, activation='softmax')"
      ],
      "execution_count": 0,
      "outputs": []
    },
    {
      "cell_type": "code",
      "metadata": {
        "id": "u3nAFbuC6CI9",
        "colab_type": "code",
        "colab": {}
      },
      "source": [
        "initial_s = Input(shape=(LATENT_DIM,), name='s0')\n",
        "initial_c = Input(shape=(LATENT_DIM,), name='c0')\n",
        "context_last_word_concat_layer = Concatenate(axis=2)"
      ],
      "execution_count": 0,
      "outputs": []
    },
    {
      "cell_type": "code",
      "metadata": {
        "id": "APFaUdXS6CI_",
        "colab_type": "code",
        "colab": {}
      },
      "source": [
        "outputs = []\n",
        "s = initial_s\n",
        "c = initial_c\n",
        "for t in range(max_len_target):\n",
        "    context = one_step_attention(encoder_outputs, s)\n",
        "    selector = Lambda(lambda x: x[:, t:t+1])\n",
        "    xt = selector(decoder_x)\n",
        "    decoder_lstm_input = context_last_word_concat_layer([context, xt])\n",
        "    o, s, c = decoder_lstm(decoder_lstm_input, initial_state=[s, c])\n",
        "    decoder_outputs = decoder_dense(o)\n",
        "    outputs.append(decoder_outputs)"
      ],
      "execution_count": 0,
      "outputs": []
    },
    {
      "cell_type": "code",
      "metadata": {
        "id": "Ncw4H1US6CJD",
        "colab_type": "code",
        "colab": {}
      },
      "source": [
        "def stack_and_transpose(x):\n",
        "    x = K.stack(x)\n",
        "    x = K.permute_dimensions(x, pattern=(1, 0, 2))\n",
        "    return x"
      ],
      "execution_count": 0,
      "outputs": []
    },
    {
      "cell_type": "code",
      "metadata": {
        "id": "ZA9GZI9M6CJI",
        "colab_type": "code",
        "colab": {}
      },
      "source": [
        "stacker = Lambda(stack_and_transpose)\n",
        "outputs = stacker(outputs)"
      ],
      "execution_count": 0,
      "outputs": []
    },
    {
      "cell_type": "code",
      "metadata": {
        "id": "a0VKw13P6CJL",
        "colab_type": "code",
        "colab": {}
      },
      "source": [
        "model = Model(\n",
        "    inputs =[\n",
        "        encoder_inputs_placeholder,\n",
        "        decoder_inputs_placeholder,\n",
        "        initial_s,\n",
        "        initial_c\n",
        "    ],\n",
        "    outputs=outputs\n",
        ")"
      ],
      "execution_count": 0,
      "outputs": []
    },
    {
      "cell_type": "code",
      "metadata": {
        "id": "Kpf43foV6CJN",
        "colab_type": "code",
        "colab": {}
      },
      "source": [
        "model.compile(loss='categorical_crossentropy', optimizer='rmsprop', metrics=['accuracy'])"
      ],
      "execution_count": 0,
      "outputs": []
    },
    {
      "cell_type": "code",
      "metadata": {
        "id": "FcS7ylLZ7RkE",
        "colab_type": "code",
        "colab": {
          "base_uri": "https://localhost:8080/",
          "height": 3377
        },
        "outputId": "396a9f73-38c7-41aa-bed4-0d287ee91539"
      },
      "source": [
        "r = model.fit_generator(train_gen,\n",
        "                       steps_per_epoch=train_len//BATCH_SIZE,\n",
        "                       epochs=EPOCHS,\n",
        "                       validation_data=valid_gen,\n",
        "                       validation_steps=validation_size//BATCH_SIZE)"
      ],
      "execution_count": 41,
      "outputs": [
        {
          "output_type": "stream",
          "text": [
            "Epoch 1/100\n",
            "125/125 [==============================] - 9s 74ms/step - loss: 3.2632 - acc: 0.5923 - val_loss: 2.3751 - val_acc: 0.6903\n",
            "Epoch 2/100\n",
            "125/125 [==============================] - 5s 42ms/step - loss: 2.3947 - acc: 0.6651 - val_loss: 2.2841 - val_acc: 0.6930\n",
            "Epoch 3/100\n",
            "125/125 [==============================] - 5s 40ms/step - loss: 2.2770 - acc: 0.6895 - val_loss: 2.1901 - val_acc: 0.6958\n",
            "Epoch 4/100\n",
            "125/125 [==============================] - 5s 40ms/step - loss: 2.0693 - acc: 0.6974 - val_loss: 2.1201 - val_acc: 0.7027\n",
            "Epoch 5/100\n",
            "125/125 [==============================] - 5s 40ms/step - loss: 1.9484 - acc: 0.7040 - val_loss: 2.0804 - val_acc: 0.7024\n",
            "Epoch 6/100\n",
            "125/125 [==============================] - 5s 40ms/step - loss: 1.8861 - acc: 0.7069 - val_loss: 1.9988 - val_acc: 0.7116\n",
            "Epoch 7/100\n",
            "125/125 [==============================] - 5s 40ms/step - loss: 1.7921 - acc: 0.7145 - val_loss: 1.9508 - val_acc: 0.7174\n",
            "Epoch 8/100\n",
            "125/125 [==============================] - 5s 40ms/step - loss: 1.7583 - acc: 0.7174 - val_loss: 1.9352 - val_acc: 0.7190\n",
            "Epoch 9/100\n",
            "125/125 [==============================] - 5s 40ms/step - loss: 1.6765 - acc: 0.7248 - val_loss: 1.9108 - val_acc: 0.7226\n",
            "Epoch 10/100\n",
            "125/125 [==============================] - 5s 40ms/step - loss: 1.6085 - acc: 0.7306 - val_loss: 1.8711 - val_acc: 0.7250\n",
            "Epoch 11/100\n",
            "125/125 [==============================] - 5s 40ms/step - loss: 1.5912 - acc: 0.7320 - val_loss: 1.8395 - val_acc: 0.7301\n",
            "Epoch 12/100\n",
            "125/125 [==============================] - 5s 40ms/step - loss: 1.5205 - acc: 0.7380 - val_loss: 1.8428 - val_acc: 0.7256\n",
            "Epoch 13/100\n",
            "125/125 [==============================] - 5s 40ms/step - loss: 1.5140 - acc: 0.7395 - val_loss: 1.8072 - val_acc: 0.7295\n",
            "Epoch 14/100\n",
            "125/125 [==============================] - 5s 41ms/step - loss: 1.4977 - acc: 0.7412 - val_loss: 1.8162 - val_acc: 0.7291\n",
            "Epoch 15/100\n",
            "125/125 [==============================] - 5s 42ms/step - loss: 1.4479 - acc: 0.7464 - val_loss: 1.7683 - val_acc: 0.7319\n",
            "Epoch 16/100\n",
            "125/125 [==============================] - 5s 41ms/step - loss: 1.4198 - acc: 0.7504 - val_loss: 1.7605 - val_acc: 0.7322\n",
            "Epoch 17/100\n",
            "125/125 [==============================] - 5s 43ms/step - loss: 1.4020 - acc: 0.7522 - val_loss: 1.7520 - val_acc: 0.7326\n",
            "Epoch 18/100\n",
            "125/125 [==============================] - 5s 42ms/step - loss: 1.3712 - acc: 0.7562 - val_loss: 1.8767 - val_acc: 0.7224\n",
            "Epoch 19/100\n",
            "125/125 [==============================] - 5s 40ms/step - loss: 1.3219 - acc: 0.7620 - val_loss: 1.7300 - val_acc: 0.7351\n",
            "Epoch 20/100\n",
            "125/125 [==============================] - 5s 41ms/step - loss: 1.3118 - acc: 0.7638 - val_loss: 1.7167 - val_acc: 0.7361\n",
            "Epoch 21/100\n",
            "125/125 [==============================] - 5s 41ms/step - loss: 1.2644 - acc: 0.7696 - val_loss: 1.7135 - val_acc: 0.7372\n",
            "Epoch 22/100\n",
            "125/125 [==============================] - 5s 40ms/step - loss: 1.2327 - acc: 0.7728 - val_loss: 1.6904 - val_acc: 0.7410\n",
            "Epoch 23/100\n",
            "125/125 [==============================] - 5s 40ms/step - loss: 1.2094 - acc: 0.7763 - val_loss: 1.8078 - val_acc: 0.7282\n",
            "Epoch 24/100\n",
            "125/125 [==============================] - 5s 40ms/step - loss: 1.2176 - acc: 0.7762 - val_loss: 1.7102 - val_acc: 0.7411\n",
            "Epoch 25/100\n",
            "125/125 [==============================] - 5s 40ms/step - loss: 1.1762 - acc: 0.7817 - val_loss: 1.6811 - val_acc: 0.7428\n",
            "Epoch 26/100\n",
            "125/125 [==============================] - 5s 40ms/step - loss: 1.1402 - acc: 0.7869 - val_loss: 1.6625 - val_acc: 0.7463\n",
            "Epoch 27/100\n",
            "125/125 [==============================] - 5s 40ms/step - loss: 1.1167 - acc: 0.7905 - val_loss: 1.6604 - val_acc: 0.7476\n",
            "Epoch 28/100\n",
            "125/125 [==============================] - 5s 40ms/step - loss: 1.1469 - acc: 0.7881 - val_loss: 1.6656 - val_acc: 0.7470\n",
            "Epoch 29/100\n",
            "125/125 [==============================] - 5s 40ms/step - loss: 1.0924 - acc: 0.7948 - val_loss: 1.6592 - val_acc: 0.7474\n",
            "Epoch 30/100\n",
            "125/125 [==============================] - 5s 40ms/step - loss: 1.1371 - acc: 0.7902 - val_loss: 1.6371 - val_acc: 0.7526\n",
            "Epoch 31/100\n",
            "125/125 [==============================] - 5s 40ms/step - loss: 1.0598 - acc: 0.8005 - val_loss: 1.6397 - val_acc: 0.7520\n",
            "Epoch 32/100\n",
            "125/125 [==============================] - 5s 41ms/step - loss: 1.0351 - acc: 0.8029 - val_loss: 1.6411 - val_acc: 0.7512\n",
            "Epoch 33/100\n",
            "125/125 [==============================] - 5s 43ms/step - loss: 1.0051 - acc: 0.8067 - val_loss: 1.6324 - val_acc: 0.7526\n",
            "Epoch 34/100\n",
            "125/125 [==============================] - 5s 41ms/step - loss: 0.9946 - acc: 0.8093 - val_loss: 1.6255 - val_acc: 0.7549\n",
            "Epoch 35/100\n",
            "125/125 [==============================] - 5s 40ms/step - loss: 0.9676 - acc: 0.8130 - val_loss: 1.6234 - val_acc: 0.7567\n",
            "Epoch 36/100\n",
            "125/125 [==============================] - 5s 41ms/step - loss: 0.9547 - acc: 0.8144 - val_loss: 1.6101 - val_acc: 0.7571\n",
            "Epoch 37/100\n",
            "125/125 [==============================] - 5s 40ms/step - loss: 0.9437 - acc: 0.8167 - val_loss: 1.6338 - val_acc: 0.7539\n",
            "Epoch 38/100\n",
            "125/125 [==============================] - 5s 40ms/step - loss: 0.9234 - acc: 0.8200 - val_loss: 1.6175 - val_acc: 0.7573\n",
            "Epoch 39/100\n",
            "125/125 [==============================] - 5s 40ms/step - loss: 0.9295 - acc: 0.8200 - val_loss: 1.6008 - val_acc: 0.7600\n",
            "Epoch 40/100\n",
            "125/125 [==============================] - 5s 40ms/step - loss: 0.8983 - acc: 0.8243 - val_loss: 1.6114 - val_acc: 0.7598\n",
            "Epoch 41/100\n",
            "125/125 [==============================] - 5s 40ms/step - loss: 0.8773 - acc: 0.8272 - val_loss: 1.5993 - val_acc: 0.7632\n",
            "Epoch 42/100\n",
            "125/125 [==============================] - 5s 40ms/step - loss: 0.9341 - acc: 0.8195 - val_loss: 1.6061 - val_acc: 0.7622\n",
            "Epoch 43/100\n",
            "125/125 [==============================] - 5s 40ms/step - loss: 0.8677 - acc: 0.8302 - val_loss: 1.6163 - val_acc: 0.7604\n",
            "Epoch 44/100\n",
            "125/125 [==============================] - 5s 40ms/step - loss: 0.8400 - acc: 0.8339 - val_loss: 1.6286 - val_acc: 0.7578\n",
            "Epoch 45/100\n",
            "125/125 [==============================] - 5s 40ms/step - loss: 0.8216 - acc: 0.8365 - val_loss: 1.5991 - val_acc: 0.7636\n",
            "Epoch 46/100\n",
            "125/125 [==============================] - 5s 40ms/step - loss: 0.8109 - acc: 0.8386 - val_loss: 1.6185 - val_acc: 0.7617\n",
            "Epoch 47/100\n",
            "125/125 [==============================] - 5s 40ms/step - loss: 0.7979 - acc: 0.8401 - val_loss: 1.6001 - val_acc: 0.7640\n",
            "Epoch 48/100\n",
            "125/125 [==============================] - 5s 41ms/step - loss: 0.7853 - acc: 0.8426 - val_loss: 1.6069 - val_acc: 0.7657\n",
            "Epoch 49/100\n",
            "125/125 [==============================] - 5s 42ms/step - loss: 0.7730 - acc: 0.8447 - val_loss: 1.6045 - val_acc: 0.7661\n",
            "Epoch 50/100\n",
            "125/125 [==============================] - 5s 41ms/step - loss: 0.7645 - acc: 0.8456 - val_loss: 1.5985 - val_acc: 0.7674\n",
            "Epoch 51/100\n",
            "125/125 [==============================] - 5s 43ms/step - loss: 0.7700 - acc: 0.8455 - val_loss: 1.6075 - val_acc: 0.7657\n",
            "Epoch 52/100\n",
            "125/125 [==============================] - 5s 43ms/step - loss: 0.7563 - acc: 0.8473 - val_loss: 1.6226 - val_acc: 0.7650\n",
            "Epoch 53/100\n",
            "125/125 [==============================] - 5s 41ms/step - loss: 0.7365 - acc: 0.8511 - val_loss: 1.5918 - val_acc: 0.7691\n",
            "Epoch 54/100\n",
            "125/125 [==============================] - 5s 40ms/step - loss: 0.7271 - acc: 0.8523 - val_loss: 1.5981 - val_acc: 0.7685\n",
            "Epoch 55/100\n",
            "125/125 [==============================] - 5s 40ms/step - loss: 0.7192 - acc: 0.8544 - val_loss: 1.5976 - val_acc: 0.7693\n",
            "Epoch 56/100\n",
            "125/125 [==============================] - 5s 40ms/step - loss: 0.7060 - acc: 0.8557 - val_loss: 1.5844 - val_acc: 0.7704\n",
            "Epoch 57/100\n",
            "125/125 [==============================] - 5s 41ms/step - loss: 0.7012 - acc: 0.8563 - val_loss: 1.6117 - val_acc: 0.7691\n",
            "Epoch 58/100\n",
            "125/125 [==============================] - 5s 40ms/step - loss: 0.6964 - acc: 0.8571 - val_loss: 1.5943 - val_acc: 0.7680\n",
            "Epoch 59/100\n",
            "125/125 [==============================] - 5s 40ms/step - loss: 0.7408 - acc: 0.8516 - val_loss: 1.6494 - val_acc: 0.7643\n",
            "Epoch 60/100\n",
            "125/125 [==============================] - 5s 41ms/step - loss: 1.0588 - acc: 0.8047 - val_loss: 1.5966 - val_acc: 0.7670\n",
            "Epoch 61/100\n",
            "125/125 [==============================] - 5s 40ms/step - loss: 0.8174 - acc: 0.8387 - val_loss: 1.6208 - val_acc: 0.7671\n",
            "Epoch 62/100\n",
            "125/125 [==============================] - 5s 40ms/step - loss: 0.9045 - acc: 0.8276 - val_loss: 1.5714 - val_acc: 0.7707\n",
            "Epoch 63/100\n",
            "125/125 [==============================] - 5s 40ms/step - loss: 0.8948 - acc: 0.8277 - val_loss: 1.6009 - val_acc: 0.7693\n",
            "Epoch 64/100\n",
            "125/125 [==============================] - 5s 42ms/step - loss: 0.7529 - acc: 0.8490 - val_loss: 1.6139 - val_acc: 0.7704\n",
            "Epoch 65/100\n",
            "125/125 [==============================] - 5s 43ms/step - loss: 0.7406 - acc: 0.8507 - val_loss: 1.6570 - val_acc: 0.7648\n",
            "Epoch 66/100\n",
            "125/125 [==============================] - 5s 41ms/step - loss: 0.7532 - acc: 0.8494 - val_loss: 1.5807 - val_acc: 0.7705\n",
            "Epoch 67/100\n",
            "125/125 [==============================] - 5s 40ms/step - loss: 0.6944 - acc: 0.8568 - val_loss: 1.5467 - val_acc: 0.7763\n",
            "Epoch 68/100\n",
            "125/125 [==============================] - 5s 40ms/step - loss: 0.7393 - acc: 0.8498 - val_loss: 1.5607 - val_acc: 0.7736\n",
            "Epoch 69/100\n",
            "125/125 [==============================] - 5s 41ms/step - loss: 0.7102 - acc: 0.8552 - val_loss: 1.6016 - val_acc: 0.7707\n",
            "Epoch 70/100\n",
            "125/125 [==============================] - 5s 40ms/step - loss: 0.7466 - acc: 0.8493 - val_loss: 1.5535 - val_acc: 0.7769\n",
            "Epoch 71/100\n",
            "125/125 [==============================] - 5s 40ms/step - loss: 0.6873 - acc: 0.8577 - val_loss: 1.5557 - val_acc: 0.7754\n",
            "Epoch 72/100\n",
            "125/125 [==============================] - 5s 40ms/step - loss: 0.6701 - acc: 0.8605 - val_loss: 1.5776 - val_acc: 0.7730\n",
            "Epoch 73/100\n",
            "125/125 [==============================] - 5s 41ms/step - loss: 0.6595 - acc: 0.8619 - val_loss: 1.5777 - val_acc: 0.7742\n",
            "Epoch 74/100\n",
            "125/125 [==============================] - 5s 43ms/step - loss: 0.6440 - acc: 0.8634 - val_loss: 1.5791 - val_acc: 0.7747\n",
            "Epoch 75/100\n",
            "125/125 [==============================] - 5s 42ms/step - loss: 0.6314 - acc: 0.8653 - val_loss: 1.5666 - val_acc: 0.7753\n",
            "Epoch 76/100\n",
            "125/125 [==============================] - 5s 40ms/step - loss: 0.6234 - acc: 0.8663 - val_loss: 1.5688 - val_acc: 0.7745\n",
            "Epoch 77/100\n",
            "125/125 [==============================] - 5s 41ms/step - loss: 0.7216 - acc: 0.8537 - val_loss: 1.5605 - val_acc: 0.7733\n",
            "Epoch 78/100\n",
            "125/125 [==============================] - 5s 40ms/step - loss: 0.7114 - acc: 0.8550 - val_loss: 1.5589 - val_acc: 0.7773\n",
            "Epoch 79/100\n",
            "125/125 [==============================] - 5s 41ms/step - loss: 0.6745 - acc: 0.8595 - val_loss: 1.9301 - val_acc: 0.7297\n",
            "Epoch 80/100\n",
            "125/125 [==============================] - 5s 43ms/step - loss: 0.7396 - acc: 0.8517 - val_loss: 1.5660 - val_acc: 0.7758\n",
            "Epoch 81/100\n",
            "125/125 [==============================] - 5s 42ms/step - loss: 0.6248 - acc: 0.8670 - val_loss: 1.5748 - val_acc: 0.7734\n",
            "Epoch 82/100\n",
            "125/125 [==============================] - 5s 40ms/step - loss: 0.6210 - acc: 0.8666 - val_loss: 1.5530 - val_acc: 0.7780\n",
            "Epoch 83/100\n",
            "125/125 [==============================] - 5s 40ms/step - loss: 0.6175 - acc: 0.8678 - val_loss: 1.5663 - val_acc: 0.7755\n",
            "Epoch 84/100\n",
            "125/125 [==============================] - 5s 41ms/step - loss: 0.6045 - acc: 0.8694 - val_loss: 1.5781 - val_acc: 0.7767\n",
            "Epoch 85/100\n",
            "125/125 [==============================] - 5s 40ms/step - loss: 0.6084 - acc: 0.8692 - val_loss: 1.5649 - val_acc: 0.7766\n",
            "Epoch 86/100\n",
            "125/125 [==============================] - 5s 41ms/step - loss: 0.6523 - acc: 0.8636 - val_loss: 1.5900 - val_acc: 0.7740\n",
            "Epoch 87/100\n",
            "125/125 [==============================] - 5s 40ms/step - loss: 0.6747 - acc: 0.8621 - val_loss: 1.7159 - val_acc: 0.7577\n",
            "Epoch 88/100\n",
            "125/125 [==============================] - 5s 40ms/step - loss: 1.0850 - acc: 0.8044 - val_loss: 1.6911 - val_acc: 0.7600\n",
            "Epoch 89/100\n",
            "125/125 [==============================] - 5s 41ms/step - loss: 1.0190 - acc: 0.8098 - val_loss: 1.6627 - val_acc: 0.7620\n",
            "Epoch 90/100\n",
            "125/125 [==============================] - 5s 40ms/step - loss: 0.9629 - acc: 0.8194 - val_loss: 1.6050 - val_acc: 0.7706\n",
            "Epoch 91/100\n",
            "125/125 [==============================] - 5s 40ms/step - loss: 0.8257 - acc: 0.8366 - val_loss: 1.5911 - val_acc: 0.7719\n",
            "Epoch 92/100\n",
            "125/125 [==============================] - 5s 40ms/step - loss: 0.7271 - acc: 0.8529 - val_loss: 1.6192 - val_acc: 0.7663\n",
            "Epoch 93/100\n",
            "125/125 [==============================] - 5s 41ms/step - loss: 0.7416 - acc: 0.8504 - val_loss: 1.8978 - val_acc: 0.7295\n",
            "Epoch 94/100\n",
            "125/125 [==============================] - 5s 40ms/step - loss: 1.0951 - acc: 0.8020 - val_loss: 1.6027 - val_acc: 0.7702\n",
            "Epoch 95/100\n",
            "125/125 [==============================] - 5s 41ms/step - loss: 0.7981 - acc: 0.8435 - val_loss: 1.5836 - val_acc: 0.7745\n",
            "Epoch 96/100\n",
            "125/125 [==============================] - 5s 43ms/step - loss: 0.7631 - acc: 0.8467 - val_loss: 1.5647 - val_acc: 0.7745\n",
            "Epoch 97/100\n",
            "125/125 [==============================] - 5s 42ms/step - loss: 0.7340 - acc: 0.8512 - val_loss: 1.5648 - val_acc: 0.7754\n",
            "Epoch 98/100\n",
            "125/125 [==============================] - 5s 41ms/step - loss: 0.7108 - acc: 0.8542 - val_loss: 1.6015 - val_acc: 0.7728\n",
            "Epoch 99/100\n",
            "125/125 [==============================] - 5s 40ms/step - loss: 1.0570 - acc: 0.8039 - val_loss: 1.7394 - val_acc: 0.7495\n",
            "Epoch 100/100\n",
            "125/125 [==============================] - 5s 41ms/step - loss: 1.0097 - acc: 0.8118 - val_loss: 1.6446 - val_acc: 0.7629\n"
          ],
          "name": "stdout"
        }
      ]
    },
    {
      "cell_type": "code",
      "metadata": {
        "id": "EAVVYah06CJS",
        "colab_type": "code",
        "colab": {
          "base_uri": "https://localhost:8080/",
          "height": 269
        },
        "outputId": "c9ca552b-6bc1-4a8c-a091-6377cec22d6f"
      },
      "source": [
        "plt.plot(r.history['loss'], label='loss')\n",
        "plt.plot(r.history['val_loss'], label='valid_loss')\n",
        "plt.legend()\n",
        "plt.show()"
      ],
      "execution_count": 42,
      "outputs": [
        {
          "output_type": "display_data",
          "data": {
            "image/png": "[encoded data removed]",
            "text/plain": [
              "<Figure size 432x288 with 1 Axes>"
            ]
          },
          "metadata": {
            "tags": []
          }
        }
      ]
    },
    {
      "cell_type": "code",
      "metadata": {
        "id": "k69qhw086CJU",
        "colab_type": "code",
        "colab": {
          "base_uri": "https://localhost:8080/",
          "height": 269
        },
        "outputId": "632221e2-ffcc-4a9e-efb1-5b7781737572"
      },
      "source": [
        "plt.plot(r.history['acc'], label='acc')\n",
        "plt.plot(r.history['val_acc'], label='valid_acc')\n",
        "plt.legend()\n",
        "plt.show()"
      ],
      "execution_count": 43,
      "outputs": [
        {
          "output_type": "display_data",
          "data": {
            "image/png": "[encoded data removed]",
            "text/plain": [
              "<Figure size 432x288 with 1 Axes>"
            ]
          },
          "metadata": {
            "tags": []
          }
        }
      ]
    },
    {
      "cell_type": "code",
      "metadata": {
        "id": "-slrXJXQ6CJW",
        "colab_type": "code",
        "colab": {}
      },
      "source": [
        "encoder_model = Model(encoder_inputs_placeholder, encoder_outputs)"
      ],
      "execution_count": 0,
      "outputs": []
    },
    {
      "cell_type": "code",
      "metadata": {
        "id": "IfwMsuua6CJZ",
        "colab_type": "code",
        "colab": {}
      },
      "source": [
        "encoder_output_as_input = Input(shape=(max_len_input, LATENT_DIM*2,))\n",
        "decoder_input_single = Input(shape=(1,))\n",
        "decoder_input_x = decoder_embedding(decoder_input_single)\n",
        "context = one_step_attention(encoder_output_as_input, initial_s)\n",
        "decoder_lstm_input = context_last_word_concat_layer([context, decoder_input_x])\n",
        "\n",
        "o, s, c = decoder_lstm(decoder_lstm_input, initial_state=[initial_s, initial_c])\n",
        "decoder_outputs = decoder_dense(o)"
      ],
      "execution_count": 0,
      "outputs": []
    },
    {
      "cell_type": "code",
      "metadata": {
        "id": "FJdSHH3V6CJa",
        "colab_type": "code",
        "colab": {}
      },
      "source": [
        "decoder_model = Model(\n",
        "    inputs=[encoder_output_as_input,\n",
        "           decoder_input_single,\n",
        "           initial_s,\n",
        "           initial_c],\n",
        "    outputs=[decoder_outputs, s, c]\n",
        ")"
      ],
      "execution_count": 0,
      "outputs": []
    },
    {
      "cell_type": "code",
      "metadata": {
        "id": "qyCl7P3b6CJe",
        "colab_type": "code",
        "colab": {}
      },
      "source": [
        "idx2word_input = {v:k for k,v in word2idx_inputs.items()}\n",
        "idx2word_target = {v:k for k,v in word2idx_target.items()}"
      ],
      "execution_count": 0,
      "outputs": []
    },
    {
      "cell_type": "code",
      "metadata": {
        "id": "1c3E0ZzJ6CJf",
        "colab_type": "code",
        "colab": {}
      },
      "source": [
        "def decode_sequence(input_seq):\n",
        "    \n",
        "    enc_out = encoder_model.predict(input_seq)\n",
        "    target_seq = np.zeros((1, 1))\n",
        "    target_seq[0,0] = word2idx_target['<sos>']\n",
        "    eos = word2idx_target['<eos>']\n",
        "    \n",
        "    s = np.zeros((1, LATENT_DIM))\n",
        "    c = np.zeros((1, LATENT_DIM))\n",
        "    \n",
        "    output_sentence = []\n",
        "    \n",
        "    for _ in range(max_len_target):\n",
        "        o, s, c = decoder_model.predict([enc_out, target_seq, s, c])\n",
        "        \n",
        "        idx = np.argmax(o.flatten())\n",
        "        \n",
        "        if idx == eos:\n",
        "            break\n",
        "        \n",
        "        word = ''\n",
        "        if idx > 0:\n",
        "            word = idx2word_target[idx]\n",
        "            output_sentence.append(word)\n",
        "            \n",
        "        target_seq[0, 0] = idx\n",
        "    return ' '.join(output_sentence)"
      ],
      "execution_count": 0,
      "outputs": []
    },
    {
      "cell_type": "code",
      "metadata": {
        "id": "6dnG25yo6CJh",
        "colab_type": "code",
        "colab": {
          "base_uri": "https://localhost:8080/",
          "height": 353
        },
        "outputId": "19be4b90-6051-43ba-9ef4-8b7f125416eb"
      },
      "source": [
        "while True:\n",
        "    i = np.random.choice(len(input_texts))\n",
        "    input_seq = encoded_sequence[i:i+1]\n",
        "    translation = decode_sequence(input_seq)\n",
        "    print('-')\n",
        "    print('input_sequence', input_texts[i])\n",
        "    print('Predicted translation', translation)\n",
        "    print('Actual translation', target_text[i])\n",
        "    \n",
        "    ans = input('Continue? [Y/n]')\n",
        "    \n",
        "    if ans and ans.lower().startswith('n'):\n",
        "        break"
      ],
      "execution_count": 49,
      "outputs": [
        {
          "output_type": "stream",
          "text": [
            "-\n",
            "input_sequence Skip it.\n",
            "Predicted translation ayúdame.\n",
            "Actual translation Sáltatelo. <eos>\n",
            "Continue? [Y/n]y\n",
            "-\n",
            "input_sequence I'm still busy.\n",
            "Predicted translation no soy bajo.\n",
            "Actual translation Todavía estoy ocupada. <eos>\n",
            "Continue? [Y/n]y\n",
            "-\n",
            "input_sequence You look busy.\n",
            "Predicted translation no podés ir.\n",
            "Actual translation Pareces ocupado. <eos>\n",
            "Continue? [Y/n]y\n",
            "-\n",
            "input_sequence Are you kidding?\n",
            "Predicted translation ¿estás en casa?\n",
            "Actual translation ¿Estás jodiendo? <eos>\n",
            "Continue? [Y/n]n\n"
          ],
          "name": "stdout"
        }
      ]
    },
    {
      "cell_type": "code",
      "metadata": {
        "id": "HBs-MHM66CJi",
        "colab_type": "code",
        "colab": {}
      },
      "source": [
        ""
      ],
      "execution_count": 0,
      "outputs": []
    }
  ]
}